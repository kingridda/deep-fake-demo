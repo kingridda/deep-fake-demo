{
  "nbformat": 4,
  "nbformat_minor": 0,
  "metadata": {
    "colab": {
      "name": "first-order-model-demo.ipynb",
      "provenance": [],
      "collapsed_sections": []
    },
    "kernelspec": {
      "name": "python3",
      "display_name": "Python 3"
    },
    "language_info": {
      "name": "python"
    },
    "accelerator": "GPU"
  },
  "cells": [
    {
      "cell_type": "code",
      "metadata": {
        "id": "Kgs4ohwHPUK9"
      },
      "source": [
        "# getting the model from official first order model repo\n",
        "!pip install PyYAML==5.3.1\n",
        "!git clone https://github.com/AliaksandrSiarohin/first-order-model"
      ],
      "execution_count": null,
      "outputs": []
    },
    {
      "cell_type": "code",
      "metadata": {
        "id": "nq4PBjI8WuGP"
      },
      "source": [
        "#getting a default image (my photo :)\n",
        "!gdown --id 1bEzCUOM3-xL3IdK6KU5Ovk1UsF5QKHP6\n",
        "# getting a default driving video\n",
        "!gdown --id 1bX99o_MDz_vFVAQzcon3TS-eaMa3fPyw\n",
        "#getting pretrained weights\n",
        "!gdown --id 1_v_xW1V52gZCZnXgh1Ap_gwA9YVIzUnS\n"
      ],
      "execution_count": null,
      "outputs": []
    },
    {
      "cell_type": "code",
      "metadata": {
        "id": "1esSXFK-QFAm"
      },
      "source": [
        "#packages\n",
        "import imageio\n",
        "import numpy as np\n",
        "import matplotlib.pyplot as plt\n",
        "import matplotlib.animation as animation\n",
        "from skimage.transform import resize\n",
        "from IPython.display import HTML\n",
        "import warnings\n",
        "warnings.filterwarnings(\"ignore\")"
      ],
      "execution_count": null,
      "outputs": []
    },
    {
      "cell_type": "code",
      "metadata": {
        "id": "3bdFBrC9kDKZ"
      },
      "source": [
        "cd first-order-model"
      ],
      "execution_count": null,
      "outputs": []
    },
    {
      "cell_type": "code",
      "metadata": {
        "id": "AzTlKQK6jMmk"
      },
      "source": [
        "from demo import make_animation, load_checkpoints\n",
        "from skimage import img_as_ubyte"
      ],
      "execution_count": null,
      "outputs": []
    },
    {
      "cell_type": "code",
      "metadata": {
        "id": "DI0kkTnOVjan"
      },
      "source": [
        "## Load image and driving video\n",
        "## You can upload your image and driving video and change these..\n",
        "\n",
        "source_image = imageio.imread('../face.jpg')\n",
        "driving_video = imageio.mimread('../bakamitai_template.mp4')"
      ],
      "execution_count": null,
      "outputs": []
    },
    {
      "cell_type": "code",
      "metadata": {
        "id": "KpblvMBBVsk_"
      },
      "source": [
        "## Resize image and video to 256x256\n",
        "source_image = resize(source_image, (256, 256))[..., :3]\n",
        "driving_video = [resize(frame, (256, 256))[..., :3] for frame in driving_video]"
      ],
      "execution_count": null,
      "outputs": []
    },
    {
      "cell_type": "code",
      "metadata": {
        "id": "rFSivuk7WZyI"
      },
      "source": [
        "def display(source, driving, generated=None):\n",
        "    fig = plt.figure(figsize=(8 + 4 * (generated is not None), 6))\n",
        "    ims = []\n",
        "    for i in range(len(driving)):\n",
        "        cols = [source]\n",
        "        cols.append(driving[i])\n",
        "        if generated is not None:\n",
        "            cols.append(generated[i])\n",
        "        im = plt.imshow(np.concatenate(cols, axis=1), animated=True)\n",
        "        plt.axis('off')\n",
        "        ims.append([im])\n",
        "    ani = animation.ArtistAnimation(fig, ims, interval=50, repeat_delay=1000)\n",
        "    plt.close()\n",
        "    return ani\n",
        "HTML(display(source_image, driving_video).to_html5_video())"
      ],
      "execution_count": null,
      "outputs": []
    },
    {
      "cell_type": "code",
      "metadata": {
        "id": "qkaAxGXYb46v"
      },
      "source": [
        "## Loading the pretrained model\n",
        "generator, kp_detector = load_checkpoints(config_path='./config/vox-256.yaml', \n",
        "                            checkpoint_path='../vox-cpk.pth.tar')"
      ],
      "execution_count": null,
      "outputs": []
    },
    {
      "cell_type": "code",
      "metadata": {
        "id": "vYyrhFYqcc6A"
      },
      "source": [
        "predictions = make_animation(source_image, driving_video, generator, kp_detector, relative=True)\n",
        "\n",
        "## Save resulting video\n",
        "imageio.mimsave('../generated.mp4', [img_as_ubyte(frame) for frame in predictions])\n",
        "\n",
        "## Video can be downloaded from /content folder\n",
        "HTML(display(source_image, driving_video, predictions).to_html5_video())"
      ],
      "execution_count": null,
      "outputs": []
    }
  ]
}